{
 "cells": [
  {
   "cell_type": "code",
   "execution_count": 1,
   "metadata": {},
   "outputs": [],
   "source": [
    "from warnings import filterwarnings\n",
    "\n",
    "from random import seed\n",
    "from random import random\n",
    "# seed random number generator\n",
    "seed(1)\n",
    "\n",
    "import matplotlib.pyplot as plt\n",
    "import numpy as np\n",
    "import torch\n",
    "import torchkbnufft as tkbn\n",
    "from skimage.data import shepp_logan_phantom\n",
    "import time\n",
    "\n",
    "filterwarnings(\"ignore\") # ignore floor divide warnings\n",
    "if torch.cuda.is_available():\n",
    "    device = torch.device(\"cuda\")\n",
    "else:\n",
    "    device = torch.device(\"cpu\")"
   ]
  },
  {
   "cell_type": "code",
   "execution_count": 2,
   "metadata": {},
   "outputs": [],
   "source": [
    "nf = 40000\n",
    "nx = 64\n",
    "ncoil = 1\n",
    "im_size = (nx,nx,nx)\n",
    "\n",
    "coords = -np.pi + 2*np.pi*np.random.rand(3,nf).astype(np.float32)\n",
    "image = (np.random.rand(ncoil,nx,nx,nx).astype(np.float32) + 1j*np.random.rand(ncoil,nx,nx,nx).astype(np.float32)).astype(np.complex64)"
   ]
  },
  {
   "cell_type": "code",
   "execution_count": 3,
   "metadata": {},
   "outputs": [
    {
     "name": "stdout",
     "output_type": "stream",
     "text": [
      "coords shape: torch.Size([3, 40000])\n",
      "image shape: torch.Size([1, 1, 64, 64, 64])\n"
     ]
    }
   ],
   "source": [
    "# convert k-space trajectory to a tensor\n",
    "coords = torch.tensor(coords).to(device).requires_grad_(False)\n",
    "print('coords shape: {}'.format(coords.shape))\n",
    "image = torch.tensor(image).to(device).unsqueeze_(0).requires_grad_(False)\n",
    "print('image shape: {}'.format(image.shape))"
   ]
  },
  {
   "cell_type": "code",
   "execution_count": 5,
   "metadata": {},
   "outputs": [],
   "source": [
    "toep_ob = tkbn.ToepNufft()\n",
    "\n",
    "dcomp = tkbn.calc_density_compensation_function(ktraj=coords, im_size=im_size)\n",
    "\n",
    "normal_kernel = tkbn.calc_toeplitz_kernel(coords, im_size, norm=\"ortho\")  # without density compensation"
   ]
  },
  {
   "cell_type": "code",
   "execution_count": 8,
   "metadata": {},
   "outputs": [
    {
     "name": "stdout",
     "output_type": "stream",
     "text": [
      "torch.Size([3, 400000])\n",
      "torch.Size([1, 1, 400000])\n",
      "normal real:  tensor(1.9877, device='cuda:0')\n",
      "normal imag:  tensor(3.0999e-07, device='cuda:0')\n"
     ]
    }
   ],
   "source": [
    "print(coords.shape)\n",
    "print(dcomp.shape)\n",
    "\n",
    "print('normal real: ', torch.real(normal_kernel).abs().max())\n",
    "print('normal imag: ', torch.imag(normal_kernel).abs().max())\n"
   ]
  },
  {
   "cell_type": "code",
   "execution_count": 6,
   "metadata": {},
   "outputs": [
    {
     "name": "stdout",
     "output_type": "stream",
     "text": [
      "0.18611788749694824\n",
      "1.6487987041473389\n"
     ]
    }
   ],
   "source": [
    "# calculate k-space data\n",
    "torch.cuda.synchronize()\n",
    "start = time.time()\n",
    "kdata = nufft_ob(image, coords)\n",
    "torch.cuda.synchronize()\n",
    "end = time.time()\n",
    "print(end - start)\n",
    "\n",
    "# calculate k-space data\n",
    "torch.cuda.synchronize()\n",
    "start = time.time()\n",
    "for i in range(0,10):\n",
    "\tkdata = nufft_ob(image+random(), coords)\n",
    "torch.cuda.synchronize()\n",
    "end = time.time()\n",
    "print(end - start)\n"
   ]
  },
  {
   "cell_type": "code",
   "execution_count": 10,
   "metadata": {},
   "outputs": [
    {
     "name": "stdout",
     "output_type": "stream",
     "text": [
      "0.3881187438964844\n",
      "3.834625720977783\n"
     ]
    }
   ],
   "source": [
    "# calculate k-space data\n",
    "torch.cuda.synchronize()\n",
    "start = time.time()\n",
    "\n",
    "back = toep_ob(image, normal_kernel, norm=\"ortho\")\n",
    "\n",
    "torch.cuda.synchronize()\n",
    "end = time.time()\n",
    "print(end - start)\n",
    "\n",
    "# calculate k-space data\n",
    "torch.cuda.synchronize()\n",
    "start = time.time()\n",
    "\n",
    "for i in range(0,100):\n",
    "\tback = toep_ob(image+random(), normal_kernel, norm=\"ortho\")\n",
    "\n",
    "torch.cuda.synchronize()\n",
    "end = time.time()\n",
    "print(end - start)\n"
   ]
  }
 ],
 "metadata": {
  "kernelspec": {
   "display_name": "v311torch",
   "language": "python",
   "name": "python3"
  },
  "language_info": {
   "codemirror_mode": {
    "name": "ipython",
    "version": 3
   },
   "file_extension": ".py",
   "mimetype": "text/x-python",
   "name": "python",
   "nbconvert_exporter": "python",
   "pygments_lexer": "ipython3",
   "version": "3.11.2"
  },
  "orig_nbformat": 4
 },
 "nbformat": 4,
 "nbformat_minor": 2
}
